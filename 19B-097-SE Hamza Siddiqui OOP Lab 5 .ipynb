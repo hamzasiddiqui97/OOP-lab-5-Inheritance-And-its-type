{
 "cells": [
  {
   "cell_type": "code",
   "execution_count": 1,
   "metadata": {},
   "outputs": [],
   "source": [
    "#6-6-2020"
   ]
  },
  {
   "cell_type": "markdown",
   "metadata": {},
   "source": [
    "# Practice Problem 1"
   ]
  },
  {
   "cell_type": "code",
   "execution_count": 43,
   "metadata": {},
   "outputs": [
    {
     "name": "stdout",
     "output_type": "stream",
     "text": [
      "My name is  hamza\n",
      "20\n",
      "My name is  shahnoor\n",
      "19\n"
     ]
    }
   ],
   "source": [
    "class Boy:\n",
    "    name = 'hamza'\n",
    "    gender = 'Male'\n",
    "    age = 20\n",
    "\n",
    "class Girl:\n",
    "    name = 'shahnoor'\n",
    "    gender = 'Female'\n",
    "    age = 19\n",
    "\n",
    "hamza = Boy()\n",
    "haris = Boy()\n",
    "shahnoor = Girl()\n",
    "anny = Girl()\n",
    "\n",
    "print(\"My name is \",hamza.name)\n",
    "print(hamza.age)\n",
    "print(\"My name is \",shahnoor.name)\n",
    "print(shahnoor.age)"
   ]
  },
  {
   "cell_type": "markdown",
   "metadata": {},
   "source": [
    "# Practice Problem 2"
   ]
  },
  {
   "cell_type": "code",
   "execution_count": 44,
   "metadata": {},
   "outputs": [
    {
     "name": "stdout",
     "output_type": "stream",
     "text": [
      "Number of instances : 1\n",
      "Number of instance :2\n",
      "Number of instance :3\n",
      "Number of instance :3\n",
      "Number of instance :3\n"
     ]
    }
   ],
   "source": [
    "class POS:\n",
    "    counter = 0 \n",
    "    def __init__(self):\n",
    "        type(self).counter += 1\n",
    "    def _del_(self):\n",
    "        type(self).counter -= 1\n",
    "        \n",
    "if __name__ == '__main__':\n",
    "    x1 = POS()\n",
    "    print(\"Number of instances : \"+ str(POS.counter))\n",
    "    x2 = POS()\n",
    "    print(\"Number of instance :\" + str(POS.counter))\n",
    "    x3 = POS()\n",
    "    print(\"Number of instance :\" + str(POS.counter))\n",
    "    del x2 \n",
    "    print(\"Number of instance :\" + str(POS.counter))\n",
    "    del x1\n",
    "    print(\"Number of instance :\" + str(POS.counter))"
   ]
  },
  {
   "cell_type": "markdown",
   "metadata": {},
   "source": [
    "# Practice Problem 3"
   ]
  },
  {
   "cell_type": "code",
   "execution_count": 45,
   "metadata": {},
   "outputs": [
    {
     "name": "stdout",
     "output_type": "stream",
     "text": [
      "Jack Fish can swim backward.\n",
      "Nimo Fish can swim.\n"
     ]
    }
   ],
   "source": [
    "class Fish:\n",
    "    def __init__(self, first_name, last_name = \"fish\"):\n",
    "        self.first_name = first_name\n",
    "        self.last_name = last_name\n",
    "        \n",
    "    def swim(self):\n",
    "        print(self.first_name, \"Fish can swim.\")\n",
    "        \n",
    "    def swim_backward(self):\n",
    "        print(self.first_name, \"Fish can swim backward.\")\n",
    "        \n",
    "fish_jack = Fish('Jack')\n",
    "fish_jack.swim_backward()\n",
    "fish_nimo = Fish('Nimo')\n",
    "fish_nimo.swim()"
   ]
  },
  {
   "cell_type": "markdown",
   "metadata": {},
   "source": [
    "# Practice Problem 4"
   ]
  },
  {
   "cell_type": "code",
   "execution_count": 46,
   "metadata": {},
   "outputs": [],
   "source": [
    "class Fish:\n",
    "    def __init__(self, first_name, last_name = \"fish\", skeleton = 'bone', eyelids = False):\n",
    "        self.first_name = first_name\n",
    "        self.last_name = last_name\n",
    "        self.skeleton = skeleton\n",
    "        self.eyelids = eyelids\n",
    "        \n",
    "        \n",
    "    def swim(self):\n",
    "        print(self.first_name, \"Fish can swim.\\nSkeleton: \",self.skeleton, '\\neyelids: ',self.eyelids)\n",
    "        print(10*'_')\n",
    "        \n",
    "    def swim_backward(self):\n",
    "        print(self.first_name, \"Fish can swim backward.\\nSkeleton: \",self.skeleton, '\\neyelids: ',self.eyelids)\n",
    "        print(10*'_')"
   ]
  },
  {
   "cell_type": "markdown",
   "metadata": {},
   "source": [
    "# Practice Problem 5"
   ]
  },
  {
   "cell_type": "code",
   "execution_count": 47,
   "metadata": {},
   "outputs": [
    {
     "name": "stdout",
     "output_type": "stream",
     "text": [
      "Jack Fish can swim backward.\n",
      "Skeleton:  bone \n",
      "eyelids:  False\n",
      "__________\n",
      "Nimo Fish can swim.\n",
      "Skeleton:  bone \n",
      "eyelids:  False\n",
      "__________\n"
     ]
    }
   ],
   "source": [
    "class Nimo(Fish):\n",
    "    pass\n",
    "class Jack(Fish):\n",
    "    pass\n",
    "\n",
    "fish_jack = Fish('Jack')\n",
    "fish_jack.swim_backward()\n",
    "fish_nimo = Fish('Nimo')\n",
    "fish_nimo.swim()"
   ]
  },
  {
   "cell_type": "markdown",
   "metadata": {},
   "source": [
    "# Practice Problem 6"
   ]
  },
  {
   "cell_type": "code",
   "execution_count": 48,
   "metadata": {},
   "outputs": [
    {
     "name": "stdout",
     "output_type": "stream",
     "text": [
      "The Clownfish is coexisting with sea anemone.\n"
     ]
    }
   ],
   "source": [
    "class Clownfish(Fish):\n",
    "    print(\"The Clownfish is coexisting with sea anemone.\")\n",
    "    "
   ]
  },
  {
   "cell_type": "markdown",
   "metadata": {},
   "source": [
    "# Practice Problem 7"
   ]
  },
  {
   "cell_type": "code",
   "execution_count": 51,
   "metadata": {},
   "outputs": [
    {
     "name": "stdout",
     "output_type": "stream",
     "text": [
      "Sammy Shark\n",
      "The Shark cannot swim backwards, but can sink backwards.\n",
      "Sammy Fish can swim backward.\n",
      "Skeleton:  cartilage \n",
      "eyelids:  True\n",
      "__________\n",
      "True\n",
      "cartilage\n"
     ]
    }
   ],
   "source": [
    "class Shark(Fish):\n",
    "    def __init__(self,first_name, last_name =\"Shark\", skeleton = 'cartilage', eyelids = True):\n",
    "        self.first_name = first_name\n",
    "        self.last_name = last_name\n",
    "        self.skeleton = skeleton\n",
    "        self.eyelids = eyelids\n",
    "        \n",
    "    def swim(self):\n",
    "        print(\"The Shark cannot swim backwards, but can sink backwards.\")\n",
    "        \n",
    "sammy = Shark('Sammy')\n",
    "print(sammy.first_name + ' ' + sammy.last_name)\n",
    "sammy.swim()\n",
    "sammy.swim_backward()\n",
    "print(sammy.eyelids)\n",
    "print(sammy.skeleton)"
   ]
  },
  {
   "cell_type": "markdown",
   "metadata": {},
   "source": [
    "# Practice Problem 8"
   ]
  },
  {
   "cell_type": "code",
   "execution_count": 53,
   "metadata": {},
   "outputs": [],
   "source": [
    "class Trout(Fish):\n",
    "    def __init__(self, water = 'fresh water'):\n",
    "        self.water = water\n",
    "        super().__init__(self)"
   ]
  },
  {
   "cell_type": "markdown",
   "metadata": {},
   "source": [
    "# Practice Problem 9"
   ]
  },
  {
   "cell_type": "code",
   "execution_count": 62,
   "metadata": {},
   "outputs": [
    {
     "name": "stdout",
     "output_type": "stream",
     "text": [
      "Terry fish\n",
      "False\n",
      "fresh water\n",
      "Terry Fish can swim.\n",
      "Skeleton:  bone \n",
      "eyelids:  False\n",
      "__________\n"
     ]
    }
   ],
   "source": [
    "terry = Trout()\n",
    "terry.first_name = 'Terry'\n",
    "print(terry.first_name + ' ' + terry.last_name)\n",
    "#using parent __init__\n",
    "print(terry.eyelids)\n",
    "#using child __init__\n",
    "print(terry.water)\n",
    "#using parent __init__\n",
    "terry.swim()"
   ]
  },
  {
   "cell_type": "markdown",
   "metadata": {},
   "source": [
    "# Practice Problem 10"
   ]
  },
  {
   "cell_type": "code",
   "execution_count": 63,
   "metadata": {},
   "outputs": [
    {
     "name": "stdout",
     "output_type": "stream",
     "text": [
      "Coral lives in a community\n",
      "The annemone is protecting Clown Fishes\n"
     ]
    }
   ],
   "source": [
    "#multiple inheritance\n",
    "class Coral:\n",
    "    def community(self):\n",
    "        print(\"Coral lives in a community\")\n",
    "class Anemone:\n",
    "    def protect_clownfish(self):\n",
    "        print(\"The annemone is protecting Clown Fishes\")\n",
    "        \n",
    "class CoralReef(Coral, Anemone):\n",
    "    pass\n",
    "#creating objects\n",
    "barrier = CoralReef()\n",
    "#calling methods()\n",
    "barrier.community()\n",
    "barrier.protect_clownfish()"
   ]
  },
  {
   "cell_type": "markdown",
   "metadata": {},
   "source": [
    "# QUESTIONS"
   ]
  },
  {
   "cell_type": "markdown",
   "metadata": {},
   "source": [
    "# Task1"
   ]
  },
  {
   "cell_type": "markdown",
   "metadata": {},
   "source": [
    "a)Inheritance:\n",
    "Inheritance is when a class uses code constructed within another class. If we think of inheritance in terms of real world example, we can think of a child inheriting certain abilities and skills from their parent. That is to say, a child can inherit a parent’s hardworking skills, their ability of intelligence etc. Classes called child classes or subclasses inherit methods and variables from parent classes or base classes. Moreover Child class can reuse the code of Parent, allowing the programmer to use fewer lines of code and decrease redundancy and helps in saving some important time.\n",
    "\n",
    "b)\tMultiple Inheritance:\n",
    "Multiple inheritance is when a class can inherit attributes and methods from more than one parent class. This can allow programmers to save time instead of wrinting 100xLines of code again and reduce redundancy, we can take a same parent and child real world example for Multiple Inheritance..that is to say, suppose we make a class of family which includes Father, Mother and Child..so child (Child Class) will have father and mother as multiple inheritance.\n",
    "\n",
    "c)\tMulti-Level Inheritance:\n",
    "In Multi-Level Inheritance we can say that all the features of base class or the derived class is inherited into a new derived class for example: suppose we have to make a book through multi-level inheritance in that way we can simply think of book,chapter,exercise and then finally the task’s…so firstly we will make book class,chapter class,exercise class and then all those class can accessed the features of their above classes such as chapter class can have all the features of book class and so on…\n",
    "\n",
    "d)\tSuper():\n",
    "The super() function in python makes class inheritance more manageable and extensible. The function returns a temporary object that allows reference to a parent class by the keyword super(). For Example: If we take a example of a computer as a super (parent) class, while Mobile as a child class. Now when we use super() keyword it will allows the child class to access the parent class’s init() property/contructor or even a method or its class veriables. In other words, super() allows us to build classes that easily extend the functionality of previously built classes without implementing their functionality again.\n"
   ]
  },
  {
   "cell_type": "markdown",
   "metadata": {},
   "source": [
    "# Task 2"
   ]
  },
  {
   "cell_type": "code",
   "execution_count": 5,
   "metadata": {},
   "outputs": [
    {
     "name": "stdout",
     "output_type": "stream",
     "text": [
      "\t\tAirport Details\n",
      "______________________________\n",
      "Airplane number: PAWE-11000 \n",
      "Airplane Route: Lahore-Karachi \n",
      "Airplane Model: PA-31115\n",
      "______________________________\n",
      "______________________________\n",
      "\t\tPassenger Details\t\t\n",
      "Programmar Name: Haris Ahmed \n",
      "Programmar Salary: 20500 \n",
      "Programming Language: Python, C++\n",
      "______________________________\n",
      "\t\tPassenger Details\t\t\n",
      "Name: Hamza Siddiqui \n",
      "Gender: Male \n",
      "Number: 9210913445522 \n",
      "Cnic: 932-5352554534-2 \n",
      "Destination: Karachi\n"
     ]
    }
   ],
   "source": [
    "class Airplane:\n",
    "    def __init__(self,airplane_number, airplane_route, airplane_model):\n",
    "        self.airplane_number = airplane_number\n",
    "        self.airplane_route = airplane_route\n",
    "        self.airplane_model = airplane_model\n",
    "\n",
    "    def airplane_details(self):\n",
    "        print(\"\\t\\tAirport Details\")\n",
    "        print(\"_\"*30)\n",
    "        print('Airplane number: {} \\nAirplane Route: {} \\nAirplane Model: {}'.format(self.airplane_number,self.airplane_route,self.airplane_model))\n",
    "        print(30*'_')\n",
    "\n",
    "class Person:\n",
    "    def __init__(self,person_name, person_gender, person_number, person_cnic, person_destination):\n",
    "        self.person_name = person_name\n",
    "        self.person_gender = person_gender\n",
    "        self.person_number = person_number\n",
    "        self.person_cnic = person_cnic\n",
    "        self.person_destination = person_destination\n",
    "\n",
    "    def person_details_print(self):\n",
    "        print(30*'_')\n",
    "        print(\"\\t\\tPassenger Details\\t\\t\")\n",
    "        print('Name: {} \\nGender: {} \\nNumber: {} \\nCnic: {} \\nDestination: {}'.format(self.person_name.title(), self.person_gender, self.person_number,self.person_cnic,self.person_destination))\n",
    "\n",
    "class Programmar(Airplane, Person):\n",
    "    def __init__(self, prog_name, prog_salary, prog_language):\n",
    "        self.prog_name = prog_name\n",
    "        self.prog_salary = prog_salary\n",
    "        self.prog_language = prog_language\n",
    "\n",
    "    def flight_details(self,airplane_number, airplane_route, airplane_model):\n",
    "        Airplane.__init__(self,airplane_number, airplane_route, airplane_model)\n",
    "        \n",
    "    def person_details(self,person_name, person_gender, person_number, person_cnic, person_destination):\n",
    "        Person.__init__(self,person_name, person_gender, person_number, person_cnic, person_destination)\n",
    "\n",
    "    def prog_details(self):\n",
    "        print(30*'_')\n",
    "        print(\"\\t\\tPassenger Details\\t\\t\")\n",
    "        print('Programmar Name: {} \\nProgrammar Salary: {} \\nProgramming Language: {}'.format(self.prog_name.title(), self.prog_salary, self.prog_language.title()))\n",
    "        \n",
    "        \n",
    "        \n",
    "ob1 = Programmar('Haris ahmed',20500, 'python, c++')\n",
    "ob1.flight_details('PAWE-11000','Lahore-Karachi','PA-31115')\n",
    "ob1.person_details('hamza siddiqui','Male', '9210913445522','932-5352554534-2','Karachi')\n",
    "\n",
    "ob1.airplane_details()\n",
    "ob1.prog_details()\n",
    "ob1.person_details_print()"
   ]
  },
  {
   "cell_type": "markdown",
   "metadata": {},
   "source": [
    "# Task 3"
   ]
  },
  {
   "cell_type": "code",
   "execution_count": 9,
   "metadata": {},
   "outputs": [
    {
     "name": "stdout",
     "output_type": "stream",
     "text": [
      "\t\tUmbrella Details\t\t\n",
      "\t\t----------------\t\t\n",
      "This Umbrella is used in Summer season\n",
      "Name: Garden Patio Umberalla \n",
      "Frame material: Aluminium \n",
      "Shape: Round \n",
      "Back: Not Available \n",
      "Color: Red,Yellow,Pink \n",
      "Condition: Brand New \n",
      "Cover: 100% polyester\n",
      "It protects from Sun\n",
      "It protects from Rain\n"
     ]
    }
   ],
   "source": [
    "class Season:\n",
    "    def __init__(self, season_detail):\n",
    "        self.season_detail = season_detail\n",
    "\n",
    "    def seasondetails(self):\n",
    "        print(\"\\t\\tUmbrella Details\\t\\t\")\n",
    "        print(\"\\t\\t----------------\\t\\t\")\n",
    "        print(\"This Umbrella is used in {} season\".format(self.season_detail))\n",
    "\n",
    "class Protection:\n",
    "    def __init__(self,sun_protect, rain_protect, snow_protect):\n",
    "        self.sun_protect = sun_protect\n",
    "        self.rain_protect = rain_protect\n",
    "        self.snow_protect = snow_protect\n",
    "\n",
    "    def sun_details(self):\n",
    "        print('It protects from Sun')\n",
    "    def rain_details(self):\n",
    "        print(\"It protects from Rain\")\n",
    "    def snow_details(self):\n",
    "        print(\"It protects from Snow\")\n",
    "\n",
    "class Umbrela(Season,Protection):\n",
    "    def __init__(self,u_name, u_frame_material, u_shape, u_back , u_color, u_condition, u_cover):\n",
    "        self.u_name =  u_name\n",
    "        self.u_frame_material = u_frame_material\n",
    "        self.u_shape = u_shape\n",
    "        self.u_back = u_back\n",
    "        self.u_color = u_color\n",
    "        self.u_condition = u_condition\n",
    "        self.u_cover = u_cover\n",
    "\n",
    "    def umbreladetails(self):\n",
    "        print('Name: {} \\nFrame material: {} \\nShape: {} \\nBack: {} \\nColor: {} \\nCondition: {} \\nCover: {}'.format(self.u_name,self.u_frame_material,self.u_shape,self.u_back,self.u_color,self.u_condition,self.u_cover))\n",
    "\n",
    "    def print_season(self, season_detail):\n",
    "        Season.__init__(self, season_detail)\n",
    "\n",
    "    def print_protection(self,sun_protect, rain_protect, snow_protect):\n",
    "        Protection.__init__(self,sun_protect, rain_protect, snow_protect)\n",
    "\n",
    "ob1= Umbrela('Garden Patio Umberalla','Aluminium', 'Round', 'Not Available', 'Red,Yellow,Pink','Brand New','100% polyester')\n",
    "ob1.print_season('Summer')\n",
    "ob1.print_protection('yes', 'yes', 'No')\n",
    "ob1.seasondetails()\n",
    "ob1.umbreladetails()\n",
    "ob1.sun_details()\n",
    "ob1.rain_details()"
   ]
  },
  {
   "cell_type": "markdown",
   "metadata": {},
   "source": []
  }
 ],
 "metadata": {
  "kernelspec": {
   "display_name": "Python 3",
   "language": "python",
   "name": "python3"
  },
  "language_info": {
   "codemirror_mode": {
    "name": "ipython",
    "version": 3
   },
   "file_extension": ".py",
   "mimetype": "text/x-python",
   "name": "python",
   "nbconvert_exporter": "python",
   "pygments_lexer": "ipython3",
   "version": "3.7.3"
  }
 },
 "nbformat": 4,
 "nbformat_minor": 2
}
